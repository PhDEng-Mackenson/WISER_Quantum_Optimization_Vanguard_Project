{
 "cells": [
  {
   "cell_type": "markdown",
   "id": "ed66cec0",
   "metadata": {},
   "source": [
    "# Task 1\n",
    "\n",
    "Here I am reviewing the mathematical formulation provided by the organizer, focusing on binary decision variables, linear constraints, and the quadratic objective. Since the repo wasn't released at the time this notebook was worked on, I use some made up values as placeholder for each variable and used them to perform a rudimentary brute-force optimization routine.\n",
    "\n",
    "The optimization target is to make each bucket's aggregated characterisc match the desired target matrix target[L,J]"
   ]
  },
  {
   "cell_type": "code",
   "execution_count": null,
   "id": "9f13d0ed",
   "metadata": {},
   "outputs": [],
   "source": [
    "import numpy as np\n",
    "# n bonds, J characteristics, L buckets\n",
    "\n",
    "# below are the placeholder values for testing purposes.\n",
    "\n",
    "n = 35 # number of bonds. \"A set of securities C\".\n",
    "L = 5 # number of risk buskets. \n",
    "J = 4 # number of characteristics. \"A set of J of characteristics\"\n",
    "\n",
    "\n",
    "price = np.random.rand(n) # p_c price of each bond\n",
    "delta = np.random.rand(n) # delta_c in the x_c formula\n",
    "beta = np.random.randn(n, J) # beta_cj characteristics of each bond\n",
    "bucket_of = np.random.randint(0, L, n) # l(c) which bucket each bond belongs to\n",
    "target = np.random.randn(L, J)/10 # K_lj (desired target)\n",
    "K_min = np.zeros((L, J)) # Floors\n",
    "N_max = 10 # max number of bonds in portfolio\n",
    "m_c, M_c = 0.0, 1_000_000 # m_c, M_c\n"
   ]
  },
  {
   "cell_type": "code",
   "execution_count": null,
   "id": "d4b1923a",
   "metadata": {},
   "outputs": [],
   "source": [
    "def evaluate(bits: np.array): # given a binary vector\n",
    "\n",
    "    x_c = delta * bits # \n",
    "\n",
    "    bucket_char = np.zeros((L, J))\n",
    "    for c in range(n):\n",
    "        if bits[c]:\n",
    "            bucket_char[bucket_of[c]] += beta[c] # binary variable constraint\n",
    "    \n",
    "    obj = np.sum((bucket_char-target)**2) # objective function\n",
    "\n",
    "    card_violation = bits.sum() - N_max #max number of bonds in basket sum(y_c) <= N\n",
    "\n",
    "    cash_used = np.sum(price * x_c) # residual cash flow\n",
    "    rc_low = m_c - cash_used # min value of each characteristics j\n",
    "    rc_high = cash_used - M_c # max value of each characteristics j\n",
    "\n",
    "    floor_violation = (K_min - bucket_char).clip(min=0) # binary variable constraints.\n",
    "\n",
    "    violations = np.concatenate([[card_violation, rc_low, rc_high], floor_violation.flatten()]) # combine all constraint violations\n",
    "\n",
    "    return obj, violations, bucket_char\n"
   ]
  },
  {
   "cell_type": "code",
   "execution_count": null,
   "id": "f16b7c52",
   "metadata": {},
   "outputs": [
    {
     "name": "stdout",
     "output_type": "stream",
     "text": [
      "obj=    23.77   max_violation=    5.0\n",
      "obj=    42.33   max_violation=   12.0\n",
      "obj=    49.10   max_violation=   10.0\n",
      "obj=    56.52   max_violation=    6.0\n",
      "obj=   139.05   max_violation=   12.0\n"
     ]
    }
   ],
   "source": [
    "from itertools import islice\n",
    "# brute-force five random bit-vectors; print objective + violated rules\n",
    "for bits in islice((np.random.randint(0, 2, n) for _ in range(5)), 5): # brute force 5 random 35-bit binary vectors\n",
    "    obj, v, bucket_char = evaluate(bits)\n",
    "    print(f\"obj={obj:9.2f}   max_violation={v.max():7.1f}\")\n"
   ]
  },
  {
   "cell_type": "code",
   "execution_count": 11,
   "id": "2a5f1248",
   "metadata": {},
   "outputs": [
    {
     "data": {
      "text/plain": [
       "Text(50.722222222222214, 0.5, 'Buckets')"
      ]
     },
     "execution_count": 11,
     "metadata": {},
     "output_type": "execute_result"
    },
    {
     "data": {
      "image/png": "[encoded data removed]",
      "text/plain": [
       "<Figure size 640x480 with 2 Axes>"
      ]
     },
     "metadata": {},
     "output_type": "display_data"
    }
   ],
   "source": [
    "import matplotlib.pyplot as plt\n",
    "import seaborn as sns\n",
    "sns.heatmap(bucket_char, annot=True, fmt=\".1f\")\n",
    "plt.xlabel('Characteristics')\n",
    "plt.ylabel('Buckets')"
   ]
  },
  {
   "cell_type": "markdown",
   "id": "e28d2ad0",
   "metadata": {},
   "source": [
    "This heatmap shows the aggregated characteristics of the selected bonds, grouped by their assigned buckets. Each row represents one of the five buckets, and each column corresponds to one of the four characteristics. The values in each cell indicate the total contribution of that characteristic from all bonds in that bucket, with positive values shown in lighter red and negative values in darker purple/black.\n",
    "\n",
    "Bucket 3 has a strong positive value for Characteristic 0 (7.3) and a strong negative value for Characteristic 2 (−5.5), indicating large deviations in those dimensions.\n",
    "Other buckets show smaller, more balanced characteristic sums, with some moderate deviations, Bucket 1, Characteristic 1 at 2.4 for example."
   ]
  },
  {
   "cell_type": "markdown",
   "id": "0f1fef00",
   "metadata": {},
   "source": []
  }
 ],
 "metadata": {
  "kernelspec": {
   "display_name": "base",
   "language": "python",
   "name": "python3"
  },
  "language_info": {
   "codemirror_mode": {
    "name": "ipython",
    "version": 3
   },
   "file_extension": ".py",
   "mimetype": "text/x-python",
   "name": "python",
   "nbconvert_exporter": "python",
   "pygments_lexer": "ipython3",
   "version": "3.13.5"
  }
 },
 "nbformat": 4,
 "nbformat_minor": 5
}
